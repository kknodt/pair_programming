{
 "cells": [
  {
   "cell_type": "markdown",
   "id": "7e80b742-0c2e-46d2-99e5-61f2982571e4",
   "metadata": {},
   "source": [
    "# Lesson 1: Getting Started with PaLM (using chat)"
   ]
  },
  {
   "cell_type": "markdown",
   "id": "b13b4dd3-3436-43f8-811c-262ed83d7767",
   "metadata": {},
   "source": [
    "#### Setup"
   ]
  },
  {
   "cell_type": "markdown",
   "id": "a8be2f53-efa5-495f-808e-1e3189f0b73d",
   "metadata": {},
   "source": [
    "To use the PaLM API on your own machine, first install the library:\n",
    "```Python\n",
    "!pip install -q google.generativeai\n",
    "```\n",
    "The optional flag `-q` installs \"quietly\" without printing out details of the installation.\n",
    "\n",
    "Note that this a a copy of the original Lesson 1 notebook where I changed the model to a chat model instead of the original text model.\n"
   ]
  },
  {
   "cell_type": "code",
   "execution_count": 3,
   "id": "89a9a4b3-b338-4ed8-ac7b-a08143da5b63",
   "metadata": {},
   "outputs": [],
   "source": [
    "from dotenv import load_dotenv\n",
    "import os\n",
    "import google.generativeai as palm\n",
    "from google.api_core import client_options as client_options_lib\n",
    "\n",
    "load_dotenv()\n",
    "\n",
    "palm.configure(\n",
    "    api_key=os.environ.get(\"PaLM_API_KEY\"),\n",
    "    transport=\"rest\",\n",
    "    client_options=client_options_lib.ClientOptions(\n",
    "        api_endpoint=os.getenv(\"GOOGLE_API_BASE\"),\n",
    "    )\n",
    ")"
   ]
  },
  {
   "cell_type": "markdown",
   "id": "9648b897-5ad4-4caa-808d-97528c2fcf39",
   "metadata": {},
   "source": [
    "### Explore the available models"
   ]
  },
  {
   "cell_type": "code",
   "execution_count": 4,
   "id": "77038a39-427c-4d1f-bc7e-e0692e8f6869",
   "metadata": {},
   "outputs": [
    {
     "name": "stdout",
     "output_type": "stream",
     "text": [
      "name: models/chat-bison-001\n",
      "description: Chat-optimized generative language model.\n",
      "generation methods:['generateMessage', 'countMessageTokens']\n",
      "\n",
      "name: models/text-bison-001\n",
      "description: Model targeted for text generation.\n",
      "generation methods:['generateText', 'countTextTokens', 'createTunedTextModel']\n",
      "\n",
      "name: models/embedding-gecko-001\n",
      "description: Obtain a distributed representation of a text.\n",
      "generation methods:['embedText']\n",
      "\n"
     ]
    }
   ],
   "source": [
    "for m in palm.list_models():\n",
    "    print(f\"name: {m.name}\")\n",
    "    print(f\"description: {m.description}\")\n",
    "    print(f\"generation methods:{m.supported_generation_methods}\\n\")"
   ]
  },
  {
   "cell_type": "markdown",
   "id": "e8540099-fad0-4954-83a7-c2fba3f6d972",
   "metadata": {},
   "source": [
    "#### Filter models by their supported generation methods\n",
    "- `generateText` is currently recommended for coding-related prompts.\n",
    "- `generateMessage` is optimized for multi-turn chats (dialogues) with an LLM."
   ]
  },
  {
   "cell_type": "code",
   "execution_count": 5,
   "id": "48e26d6a-02b9-4838-a0e6-d2e6a3ae042e",
   "metadata": {},
   "outputs": [
    {
     "data": {
      "text/plain": [
       "[Model(name='models/chat-bison-001', base_model_id='', version='001', display_name='Chat Bison', description='Chat-optimized generative language model.', input_token_limit=4096, output_token_limit=1024, supported_generation_methods=['generateMessage', 'countMessageTokens'], temperature=0.25, top_p=0.95, top_k=40)]"
      ]
     },
     "execution_count": 5,
     "metadata": {},
     "output_type": "execute_result"
    }
   ],
   "source": [
    "models = [m for m in palm.list_models() \n",
    "          if 'generateMessage' \n",
    "          in m.supported_generation_methods]\n",
    "models"
   ]
  },
  {
   "cell_type": "code",
   "execution_count": 6,
   "id": "4eb4fc7d-2a1a-43bc-9810-25e4db3b7cb7",
   "metadata": {},
   "outputs": [
    {
     "data": {
      "text/plain": [
       "Model(name='models/chat-bison-001', base_model_id='', version='001', display_name='Chat Bison', description='Chat-optimized generative language model.', input_token_limit=4096, output_token_limit=1024, supported_generation_methods=['generateMessage', 'countMessageTokens'], temperature=0.25, top_p=0.95, top_k=40)"
      ]
     },
     "execution_count": 6,
     "metadata": {},
     "output_type": "execute_result"
    }
   ],
   "source": [
    "model_bison = models[0]\n",
    "model_bison"
   ]
  },
  {
   "cell_type": "markdown",
   "id": "18a24bff-ebe0-4fd3-93f6-c2aeef4d44f7",
   "metadata": {},
   "source": [
    "#### helper function to generate text\n",
    "\n",
    "- The `@retry` decorator helps you to retry the API call if it fails.\n",
    "- We set the temperature to 0.0 so that the model returns the same output (completion) if given the same input (the prompt)."
   ]
  },
  {
   "cell_type": "code",
   "execution_count": 7,
   "id": "a93ff932-2a86-485a-adad-7f66e285aaf4",
   "metadata": {},
   "outputs": [],
   "source": [
    "\n",
    "from google.api_core import retry\n",
    "@retry.Retry()\n",
    "def generate_message(prompt,\n",
    "                  model=model_bison,\n",
    "                  temperature=0.0):\n",
    "\n",
    "     return palm.chat(messages=prompt, temperature=temperature\n",
    "#    return palm.generate_text(prompt=prompt, temperature=temperature,\n",
    "#\n",
    "# these only work with the generate_text method                              \n",
    "#              safety_settings=[\n",
    "#        {\n",
    "#            \"category\": palm.types.HarmCategory.HARM_CATEGORY_DEROGATORY,\n",
    "#            \"threshold\": palm.types.HarmBlockThreshold.BLOCK_NONE\n",
    "#        }\n",
    "#    ]      \n",
    "                    \n",
    "    )"
   ]
  },
  {
   "cell_type": "markdown",
   "id": "aa756beb-7e70-4575-a27e-82b733b3d3b0",
   "metadata": {},
   "source": [
    "#### Ask the LLM how to write some code\n",
    "\n"
   ]
  },
  {
   "cell_type": "code",
   "execution_count": 19,
   "id": "04080420-acd1-43a8-92bc-7d4c407a0154",
   "metadata": {},
   "outputs": [
    {
     "name": "stdout",
     "output_type": "stream",
     "text": [
      "Sure, here is a simple code to print out a linked list in Python:\n",
      "\n",
      "```python\n",
      "class Node:\n",
      "    def __init__(self, data):\n",
      "        self.data = data\n",
      "        self.next = None\n",
      "\n",
      "class LinkedList:\n",
      "    def __init__(self):\n",
      "        self.head = None\n",
      "\n",
      "    def append(self, data):\n",
      "        new_node = Node(data)\n",
      "        if self.head is None:\n",
      "            self.head = new_node\n",
      "        else:\n",
      "            node = self.head\n",
      "            while node.next is not None:\n",
      "                node = node.next\n",
      "            node.next = new_node\n",
      "\n",
      "    def print_list(self):\n",
      "        node = self.head\n",
      "        while node is not None:\n",
      "            print(node.data)\n",
      "            node = node.next\n",
      "\n",
      "if __name__ == \"__main__\":\n",
      "    list = LinkedList()\n",
      "    list.append(1)\n",
      "    list.append(2)\n",
      "    list.append(3)\n",
      "    list.print_list()\n",
      "```\n",
      "\n",
      "This code will print out the following:\n",
      "\n",
      "```\n",
      "1\n",
      "2\n",
      "3\n",
      "```\n"
     ]
    }
   ],
   "source": [
    "prompt = \"show me  code to print out a linked list in Python\"\n",
    "completion = generate_message(prompt)\n",
    "if (completion.last == None):\n",
    "    print(completion)\n",
    "else:\n",
    "    print(completion.last)\n",
    "#print(completion.result)"
   ]
  },
  {
   "cell_type": "markdown",
   "id": "1400bcb5-bfe8-4192-809d-d95b21bf8422",
   "metadata": {},
   "source": [
    "- Tip: The words \"show me\" tends to encourage the PaLM LLM to give more details and explanations compared to if you were to ask \"write code to ...\""
   ]
  },
  {
   "cell_type": "code",
   "execution_count": 24,
   "id": "3557557d-2b86-4755-a44f-8846e0035d3a",
   "metadata": {},
   "outputs": [
    {
     "name": "stdout",
     "output_type": "stream",
     "text": [
      "Failed\n",
      "\n",
      "ChatResponse(model='models/chat-bison-001', context='', examples=[], messages=[{'author': '0', 'content': 'write code to iterate across a linked list in Python'}, None], temperature=0.0, candidate_count=None, candidates=[], filters=[{'reason': <BlockedReason.OTHER: 2>}], top_p=None, top_k=None)\n"
     ]
    }
   ],
   "source": [
    "prompt = \"write code to iterate across a linked list in Python\"\n",
    "completion = generate_message(prompt)\n",
    "if (completion.last == None):\n",
    "    print(\"Failed\\n\")\n",
    "    print(completion)\n",
    "else:\n",
    "    print(completion.last)"
   ]
  },
  {
   "cell_type": "markdown",
   "id": "26114873-bb3c-4253-a679-4dda28af561c",
   "metadata": {},
   "source": [
    "#### Try out the code\n",
    "- Try copy-pasting some of the generated code and running it in the notebook.\n",
    "- Remember to test out the LLM-generated code and debug it make sure it works as intended."
   ]
  },
  {
   "cell_type": "code",
   "execution_count": 12,
   "id": "e2e76677-1b90-4ce4-a3b4-aae857e870f6",
   "metadata": {},
   "outputs": [
    {
     "name": "stdout",
     "output_type": "stream",
     "text": [
      "apple\n",
      "banana\n",
      "cherry\n"
     ]
    }
   ],
   "source": [
    "# paste the LLM's code here# Create a list\n",
    "list = [\"apple\", \"banana\", \"cherry\"]\n",
    "\n",
    "# Iterate over the list using a for loop\n",
    "for item in list:\n",
    "    print(item)\n",
    "\n",
    "\n"
   ]
  },
  {
   "cell_type": "markdown",
   "id": "3c649daa-781c-4c69-ac1b-d100e9747190",
   "metadata": {},
   "source": [
    "#### Try asking your own coding question"
   ]
  },
  {
   "cell_type": "code",
   "execution_count": null,
   "id": "c69b4929-ec4f-495c-a773-a92ce2c9b36c",
   "metadata": {},
   "outputs": [],
   "source": [
    "# Modify the prompt with your own question\n",
    "prompt = \"Show me how to [...]\"\n",
    "\n",
    "completion = generate_text(prompt)"
   ]
  },
  {
   "cell_type": "code",
   "execution_count": null,
   "id": "c759d6a4-ed38-43fd-a588-1d62308a8746",
   "metadata": {},
   "outputs": [],
   "source": []
  },
  {
   "cell_type": "markdown",
   "id": "6a2b9e7a-4911-476d-9141-010224682d17",
   "metadata": {},
   "source": [
    "#### Note about the API key\n",
    "We've provided an API key for this classroom.  If you would like your own API key for your own projects, you can get one at [developers.generativeai.google](https://developers.generativeai.google/)"
   ]
  }
 ],
 "metadata": {
  "kernelspec": {
   "display_name": "Python 3 (ipykernel)",
   "language": "python",
   "name": "python3"
  },
  "language_info": {
   "codemirror_mode": {
    "name": "ipython",
    "version": 3
   },
   "file_extension": ".py",
   "mimetype": "text/x-python",
   "name": "python",
   "nbconvert_exporter": "python",
   "pygments_lexer": "ipython3",
   "version": "3.10.12"
  }
 },
 "nbformat": 4,
 "nbformat_minor": 5
}
